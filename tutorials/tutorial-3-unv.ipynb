{
 "cells": [
  {
   "cell_type": "markdown",
   "metadata": {},
   "source": [
    "# PyGeM"
   ]
  },
  {
   "cell_type": "markdown",
   "metadata": {},
   "source": [
    "## Tutorial 3: Free Form Deformation on a unv mesh on cylinder: continuity of the deformation"
   ]
  },
  {
   "cell_type": "markdown",
   "metadata": {},
   "source": [
    "In this tutorial we show how to perform the Free Form Deformation on a hexaedral mesh of a cylinder. In particular, above what already seen in the previous tutorials, we give some information about how to set the desired continuity to the geometry we are morphing.\n",
    "\n",
    "First of all we just import pygem package and we read a parameters file."
   ]
  },
  {
   "cell_type": "code",
   "execution_count": 1,
   "metadata": {
    "collapsed": false
   },
   "outputs": [],
   "source": [
    "import pygem as pg\n",
    "\n",
    "params = pg.params.FFDParameters()\n",
    "params.read_parameters(filename='../tests/test_datasets/parameters_test_ffd_pipe_unv_C0.prm')"
   ]
  },
  {
   "cell_type": "markdown",
   "metadata": {
    "collapsed": false
   },
   "source": [
    "The following is the parameters file for the case at hand. In particular, if you look at the Box info section, there is 2-by-2-by-3 lattice around a cylinder. Since we want to shift the middle section of the cylinder along the x direction we modify only the parameter x weights corresponding to the middle point in z direction (index==1). In the following we show only the important parts of the parameters file"
   ]
  },
  {
   "cell_type": "markdown",
   "metadata": {
    "collapsed": true
   },
   "source": [
    "[Box info] \n",
    "\n",
    "n control points x: 2  \n",
    "n control points y: 2  \n",
    "n control points z: 3  \n",
    "  \n",
    "box lenght x: 2.2  \n",
    "box lenght y: 2.2  \n",
    "box lenght z: 6.0  \n",
    "\n",
    "box origin x: -1.1  \n",
    "box origin y: -1.1  \n",
    "box origin z:  2.0  \n",
    "  \n",
    "  \n",
    "[Parameters weights]  \n",
    "\n",
    "parameter x:  \n",
    "\n",
    "              0   0   1   0.8\n",
    "              0   1   1   0.8\n",
    "              1   0   1   0.8\n",
    "              1   1   1   0.8"
   ]
  },
  {
   "cell_type": "markdown",
   "metadata": {
    "collapsed": true
   },
   "source": [
    "We now load the unv file..."
   ]
  },
  {
   "cell_type": "code",
   "execution_count": 2,
   "metadata": {
    "collapsed": true
   },
   "outputs": [],
   "source": [
    "unv_handler = pg.unvhandler.UnvHandler()\n",
    "mesh_points = unv_handler.parse('../tests/test_datasets/test_pipe.unv')"
   ]
  },
  {
   "cell_type": "markdown",
   "metadata": {},
   "source": [
    "and visualize the undeformed mesh.\n",
    "\n",
    "![](pictures/cylinder_orig_unv.png)\n",
    "\n",
    "We now, as always, perform the FFD and write out the results in another unv file."
   ]
  },
  {
   "cell_type": "code",
   "execution_count": 3,
   "metadata": {
    "collapsed": true
   },
   "outputs": [],
   "source": [
    "free_form = pg.freeform.FFD(params, mesh_points)\n",
    "free_form.perform()\n",
    "new_mesh_points = free_form.modified_mesh_points\n",
    "\n",
    "unv_handler.write(new_mesh_points, 'test_pipe_mod_C0.unv')"
   ]
  },
  {
   "cell_type": "markdown",
   "metadata": {},
   "source": [
    "Let us see the result...\n",
    "\n",
    "![](pictures/cylinder_mod_unv_C0.png)\n",
    "\n",
    "As you can easily see the ffd deformation makes the mesh only C0 continuous.\n",
    "\n",
    "This is not wrong a priori, but it can have some drawbacks.\n",
    "\n",
    "First of all, if you start with a smooth geometry, probably you do not want to end up with a geometry with more edges.\n",
    "\n",
    "For large deformations this can cause inaccurancy errors when you try to perform analysis on the deformed mesh. In fact, it can happen that we have very stretched cells that the solver can not treat properly. Of course it depends mainly on the solver choosen, but, in general, it is not very clever to have \"spiky\" cells.\n",
    "\n",
    "Moreover, if you are interested in some quantities, such as grandients and normal vectors, it can be difficult to compute them close to the \"artificial edges\".\n",
    "\n",
    "Thus, we can rely on the properties of the Bernstein polynomials (on which FFD is built upon) to overcome this potential problem. In fact, if we add 2 new control points in the z direction we can move only the middle one, leaving the first two and the last two still. The new parameter file (only the relevant changes) becomes:\n",
    "\n",
    "[Box info] \n",
    "\n",
    "n control points x: 2  \n",
    "n control points y: 2  \n",
    "n control points z: 5  \n",
    "  \n",
    "box lenght x: 2.2   \n",
    "box lenght y: 2.2   \n",
    "box lenght z: 6.0   \n",
    "\n",
    "box origin x: -1.1  \n",
    "box origin y: -1.1  \n",
    "box origin z:  2.0  \n",
    "\n",
    "\n",
    "[Parameters weights]  \n",
    "\n",
    "parameter x: \n",
    "\n",
    "              0   0   2   0.8\n",
    "              0   1   2   0.8\n",
    "              1   0   2   0.8\n",
    "              1   1   2   0.8\n"
   ]
  },
  {
   "cell_type": "markdown",
   "metadata": {},
   "source": [
    "We again load the new parameter file, perform the FFD and write out the results in another unv file."
   ]
  },
  {
   "cell_type": "code",
   "execution_count": 4,
   "metadata": {
    "collapsed": true
   },
   "outputs": [],
   "source": [
    "params = pg.params.FFDParameters()\n",
    "params.read_parameters(filename='../tests/test_datasets/parameters_test_ffd_pipe_unv_C1.prm')\n",
    "\n",
    "free_form = pg.freeform.FFD(params, mesh_points)\n",
    "free_form.perform()\n",
    "new_mesh_points = free_form.modified_mesh_points\n",
    "\n",
    "unv_handler.write(new_mesh_points, 'test_pipe_mod_C1.unv')"
   ]
  },
  {
   "cell_type": "markdown",
   "metadata": {},
   "source": [
    "And here it is the C1 mesh on the cylinder.\n",
    "\n",
    "![](pictures/cylinder_mod_unv_C1.png)\n",
    "\n",
    "You can add some other points to increase again the continuity of the mesh!"
   ]
  }
 ],
 "metadata": {
  "kernelspec": {
   "display_name": "Python 2",
   "language": "python",
   "name": "python2"
  },
  "language_info": {
   "codemirror_mode": {
    "name": "ipython",
    "version": 2
   },
   "file_extension": ".py",
   "mimetype": "text/x-python",
   "name": "python",
   "nbconvert_exporter": "python",
   "pygments_lexer": "ipython2",
   "version": "2.7.10"
  }
 },
 "nbformat": 4,
 "nbformat_minor": 0
}
